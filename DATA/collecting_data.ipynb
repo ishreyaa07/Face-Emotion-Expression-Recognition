{
 "cells": [
  {
   "cell_type": "code",
   "execution_count": null,
   "metadata": {},
   "outputs": [],
   "source": [
    "!mkdir -p ~/.kaggle\n",
    "!cp kaggle.json ~/.kaggle/\n",
    "\n",
    "#API command for FER2013\n",
    "!kaggle datasets download -d msambare/fer2013\n",
    "\n",
    "#API command for FER2013plus\n",
    "!kaggle datasets download -d subhaditya/fer2013plus"
   ]
  },
  {
   "cell_type": "code",
   "execution_count": null,
   "metadata": {},
   "outputs": [],
   "source": [
    "import zipfile\n",
    "zip_ref = zipfile.ZipFile('/media/bennettpc/fe11dcbb-f25e-4ef7-83dc-f1876b222064/SHREYA/fer2013.zip', 'r')\n",
    "zip_ref.extractall('/media/bennettpc/fe11dcbb-f25e-4ef7-83dc-f1876b222064/SHREYA/')\n",
    "zip_ref.close()"
   ]
  },
  {
   "cell_type": "code",
   "execution_count": null,
   "metadata": {},
   "outputs": [],
   "source": [
    "import zipfile\n",
    "zip_ref = zipfile.ZipFile('/media/bennettpc/fe11dcbb-f25e-4ef7-83dc-f1876b222064/SHREYA/Face_Emotion_Analysis/fer2013plus.zip')\n",
    "zip_ref.extractall('/media/bennettpc/fe11dcbb-f25e-4ef7-83dc-f1876b222064/SHREYA/Face_Emotion_Analysis')\n",
    "zip_ref.close()"
   ]
  }
 ],
 "metadata": {
  "language_info": {
   "name": "python"
  }
 },
 "nbformat": 4,
 "nbformat_minor": 2
}
